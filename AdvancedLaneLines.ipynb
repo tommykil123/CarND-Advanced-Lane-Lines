{
 "cells": [
  {
   "cell_type": "markdown",
   "metadata": {},
   "source": [
    "## Advanced Lane Finding Project\n",
    "\n",
    "The goals / steps of this project are the following:\n",
    "\n",
    "* Compute the camera calibration matrix and distortion coefficients given a set of chessboard images.\n",
    "* Apply a distortion correction to raw images.\n",
    "* Use color transforms, gradients, etc., to create a thresholded binary image.\n",
    "* Apply a perspective transform to rectify binary image (\"birds-eye view\").\n",
    "* Detect lane pixels and fit to find the lane boundary.\n",
    "* Determine the curvature of the lane and vehicle position with respect to center.\n",
    "* Warp the detected lane boundaries back onto the original image.\n",
    "* Output visual display of the lane boundaries and numerical estimation of lane curvature and vehicle position."
   ]
  },
  {
   "cell_type": "code",
   "execution_count": 1,
   "metadata": {
    "scrolled": true
   },
   "outputs": [],
   "source": [
    "from importlib import reload \n",
    "# %load functions.py\n",
    "import functions\n",
    "functions = reload(functions)"
   ]
  },
  {
   "cell_type": "markdown",
   "metadata": {},
   "source": [
    "## Step 2: Compute the camera calibration using chessboard images"
   ]
  },
  {
   "cell_type": "code",
   "execution_count": 2,
   "metadata": {},
   "outputs": [],
   "source": [
    "import numpy as np\n",
    "import cv2\n",
    "import glob\n",
    "import matplotlib.pyplot as plt\n",
    "%matplotlib qt\n",
    "\n",
    "# prepare object points, like (0,0,0), (1,0,0), (2,0,0) ....,(6,5,0)\n",
    "objp = np.zeros((6*9,3), np.float32)\n",
    "objp[:,:2] = np.mgrid[0:9,0:6].T.reshape(-1,2)\n",
    "\n",
    "# Arrays to store object points and image points from all the images.\n",
    "objpoints = [] # 3d points in real world space (real undistorted chessboard corners)\n",
    "               # These are the known object coordinates of the chessboard corners\n",
    "               # x, y, and z from the top left corner (0,0,0) to (x, y, 0) --> flat \n",
    "imgpoints = [] # 2d points in image plane. (coordinates of the corners)\n",
    "\n",
    "# Make a list of calibration images\n",
    "images = glob.glob('1_camera_cal/calibration*.jpg')\n",
    "\n",
    "# Array to store valid_imgages\n",
    "valid_imgs = []\n",
    "\n",
    "# Step through the list and search for chessboard corners\n",
    "for fname in images:\n",
    "    img = cv2.imread(fname)\n",
    "    gray = cv2.cvtColor(img,cv2.COLOR_BGR2GRAY)\n",
    "\n",
    "    # Find the chessboard corners\n",
    "    ret, corners = cv2.findChessboardCorners(gray, (9,6),None)\n",
    "\n",
    "    # If found, add object points, image points\n",
    "    if ret == True:\n",
    "        objpoints.append(objp)\n",
    "        imgpoints.append(corners)\n",
    "        valid_imgs.append(fname)\n",
    "        \n",
    "        # Draw and display the corners\n",
    "        img = cv2.drawChessboardCorners(img, (9,6), corners, ret)\n",
    "        #cv2.imshow('img',img)\n",
    "        #cv2.waitKey(500)\n",
    "cv2.destroyAllWindows()"
   ]
  },
  {
   "cell_type": "markdown",
   "metadata": {},
   "source": [
    "## Step 3: Correct for Distortion (and save undistorted images)"
   ]
  },
  {
   "cell_type": "code",
   "execution_count": 3,
   "metadata": {
    "scrolled": true
   },
   "outputs": [],
   "source": [
    "import re\n",
    "undist_imgs = []\n",
    "for i in range(0, len(valid_imgs)):\n",
    "    img = cv2.imread(valid_imgs[i])\n",
    "    img_num = ''.join(re.findall(\"\\d\",(valid_imgs[i])))\n",
    "    ret, mtx, dist, rvecs, tvecs = cv2.calibrateCamera(objpoints,imgpoints, img.shape[1:], None, None)\n",
    "    undist = cv2.undistort(img, mtx, dist, None, mtx)\n",
    "    #cv2.imshow('img',undist)\n",
    "    #cv2.waitKey(500)\n",
    "    undist_path = str('2_camera_undist'+'/undistort'+img_num+'.jpg')\n",
    "    undist_imgs.append(undist_path)\n",
    "    cv2.imwrite(undist_path, undist)\n",
    "#cv2.destroyAllWindows()"
   ]
  },
  {
   "cell_type": "markdown",
   "metadata": {},
   "source": [
    "## Step 4: Perspective Transform (and save transformed images)"
   ]
  },
  {
   "cell_type": "code",
   "execution_count": 4,
   "metadata": {},
   "outputs": [],
   "source": [
    "nx = 9\n",
    "ny = 6\n",
    "trans_paths = []\n",
    "for i in range(0, len(undist_imgs)):\n",
    "    img = cv2.imread(undist_imgs[i])\n",
    "    img_num = ''.join(re.findall(\"\\d\",(undist_imgs[i]))) \n",
    "    gray = cv2.cvtColor(img, cv2.COLOR_BGR2GRAY)\n",
    "    ret, corners = cv2.findChessboardCorners(gray, (nx, ny), None)\n",
    "    \n",
    "    if ret == True:\n",
    "        cv2.drawChessboardCorners(img, (nx, ny), corners, ret)\n",
    "        offset = 100\n",
    "        img_size = (gray.shape[1], gray.shape[0])\n",
    "        src = np.float32([corners[0], corners[nx-1],corners[-1], corners[-nx]])\n",
    "        dst = np.float32([[offset, offset], [img_size[0]-offset, offset],\n",
    "                          [img_size[0]-offset, img_size[1]-offset],\n",
    "                          [offset, img_size[1]-offset]])\n",
    "        M = cv2.getPerspectiveTransform(src, dst)\n",
    "        warped = cv2.warpPerspective(img, M, img_size)\n",
    "        cv2.imshow('img',warped)\n",
    "        cv2.waitKey(500)\n",
    "        trans_path = str('3_camera_transform'+'/transform'+img_num+'.jpg')\n",
    "        trans_paths.append(trans_path)\n",
    "        cv2.imwrite(trans_path, warped)\n",
    "cv2.destroyAllWindows()"
   ]
  },
  {
   "cell_type": "markdown",
   "metadata": {},
   "source": [
    "## Step 5: Undistort camera images of road"
   ]
  },
  {
   "cell_type": "code",
   "execution_count": 5,
   "metadata": {},
   "outputs": [],
   "source": [
    "import re\n",
    "images = glob.glob('4_test_images/*.jpg')\n",
    "undist_imgs = []\n",
    "for fname in images:\n",
    "    img = cv2.imread(fname)\n",
    "    img_name = ''.join(re.findall(\"(?<=/)\\w+\",fname)) # Find .jpg name after a '/'\n",
    "    ret, mtx, dist, rvecs, tvecs = cv2.calibrateCamera(objpoints,imgpoints, img.shape[1:], None, None)\n",
    "    undist = cv2.undistort(img, mtx, dist, None, mtx)\n",
    "    #cv2.imshow('img',undist)\n",
    "    #cv2.waitKey(500)\n",
    "    undist_path = str('5_test_images_undist' + '/' + img_name +'_undist.jpg')\n",
    "    undist_imgs.append(undist_path)\n",
    "    cv2.imwrite(undist_path, undist)\n",
    "#cv2.destroyAllWindows()"
   ]
  },
  {
   "cell_type": "markdown",
   "metadata": {},
   "source": [
    "## Step 6a: Applying Sobel X Threshold"
   ]
  },
  {
   "cell_type": "code",
   "execution_count": 6,
   "metadata": {},
   "outputs": [],
   "source": [
    "sobelx_imgs = []\n",
    "for fname in undist_imgs:\n",
    "    img = cv2.imread(fname)\n",
    "    img_name = ''.join(re.findall(\"(?<=/)\\w+\",fname)) # Find .jpg name after a '/'\n",
    "    gradx = 255*functions.abs_sobel_thresh(img, orient = 'x', thresh_min = 20, thresh_max = 100)\n",
    "    #plt.imshow(grad_binary, cmap='gray')\n",
    "    cv2.imshow('img',gradx)\n",
    "    cv2.waitKey(500)\n",
    "    sobelx_path = str('6A_test_images_sobelx' + '/' + img_name +'_sobelx.jpg')\n",
    "    sobelx_imgs.append(sobelx_path)\n",
    "    cv2.imwrite(sobelx_path, gradx)\n",
    "cv2.destroyAllWindows()"
   ]
  },
  {
   "cell_type": "markdown",
   "metadata": {},
   "source": [
    "## Step 6B: Applying Sobel Y Threshold"
   ]
  },
  {
   "cell_type": "code",
   "execution_count": 7,
   "metadata": {},
   "outputs": [],
   "source": [
    "sobely_imgs = []\n",
    "for fname in undist_imgs:\n",
    "    img = cv2.imread(fname)\n",
    "    img_name = ''.join(re.findall(\"(?<=/)\\w+\",fname)) # Find .jpg name after a '/'\n",
    "    grady = 255*functions.abs_sobel_thresh(img, orient = 'y', thresh_min = 50, thresh_max = 100)\n",
    "    #plt.imshow(grad_binary, cmap='gray')\n",
    "    cv2.imshow('img',grady)\n",
    "    cv2.waitKey(500)\n",
    "    sobely_path = str('6B_test_images_sobely' + '/' + img_name +'_sobely.jpg')\n",
    "    sobely_imgs.append(sobely_path)\n",
    "    cv2.imwrite(sobely_path, grady)\n",
    "cv2.destroyAllWindows()"
   ]
  },
  {
   "cell_type": "markdown",
   "metadata": {},
   "source": [
    "## Step 6C: Applying sobel x and y magnitude threshold"
   ]
  },
  {
   "cell_type": "code",
   "execution_count": 8,
   "metadata": {},
   "outputs": [],
   "source": [
    "sobelxy_imgs = []\n",
    "for fname in undist_imgs:\n",
    "    img = cv2.imread(fname)\n",
    "    img_name = ''.join(re.findall(\"(?<=/)\\w+\",fname)) # Find .jpg name after a '/'\n",
    "    mag_binary = 255 * functions.mag_thresh(img, sobel_kernel=3, thresh_min = 30, thresh_max = 100)\n",
    "    #plt.imshow(grad_binary, cmap='gray')\n",
    "    cv2.imshow('img',mag_binary)\n",
    "    cv2.waitKey(500)\n",
    "    sobelxy_path = str('6C_test_images_sobelxy' + '/' + img_name +'_sobelxy.jpg')\n",
    "    sobelxy_imgs.append(sobelxy_path)\n",
    "    cv2.imwrite(sobelxy_path, mag_binary)\n",
    "cv2.destroyAllWindows()"
   ]
  },
  {
   "cell_type": "markdown",
   "metadata": {},
   "source": [
    "## Step 6D: Direction of Gradient Threshold"
   ]
  },
  {
   "cell_type": "code",
   "execution_count": 9,
   "metadata": {},
   "outputs": [],
   "source": [
    "gradient_imgs = []\n",
    "for fname in undist_imgs:\n",
    "    img = cv2.imread(fname)\n",
    "    img_name = ''.join(re.findall(\"(?<=/)\\w+\",fname)) # Find .jpg name after a '/'\n",
    "    dir_binary = 255 * functions.dir_threshold(img, sobel_kernel=15, thresh = (0.7,1.3))\n",
    "    cv2.imshow('img',dir_binary)\n",
    "    cv2.waitKey(500)\n",
    "    gradient_path = str('6D_test_images_gradient' + '/' + img_name +'_gradient.jpg')\n",
    "    gradient_imgs.append(gradient_path)\n",
    "    cv2.imwrite(gradient_path, dir_binary)\n",
    "cv2.destroyAllWindows()"
   ]
  },
  {
   "cell_type": "markdown",
   "metadata": {},
   "source": [
    "## Step 6E: Combining the gradient threshold (X,Y, magnitude, and direction)"
   ]
  },
  {
   "cell_type": "code",
   "execution_count": 10,
   "metadata": {},
   "outputs": [],
   "source": [
    "combined_thresh_imgs = []\n",
    "for fname in undist_imgs:\n",
    "    img = cv2.imread(fname)\n",
    "    img_name = ''.join(re.findall(\"(?<=/)\\w+\",fname)) # Find .jpg name after a '/'\n",
    "    gradx = 255*functions.abs_sobel_thresh(img, orient = 'x', thresh_min = 20, thresh_max = 100)\n",
    "    grady = 255*functions.abs_sobel_thresh(img, orient = 'y', thresh_min = 50, thresh_max = 100)\n",
    "    mag_binary = 255 * functions.mag_thresh(img, sobel_kernel=3, thresh_min = 30, thresh_max = 100)\n",
    "    dir_binary = 255 * functions.dir_threshold(img, sobel_kernel=15, thresh = (0.7,1.3))\n",
    "    \n",
    "    combined = np.zeros_like(gradx)\n",
    "    combined[((gradx == 255) & (grady == 255)) | ((mag_binary == 1) & (dir_binary == 1))] = 255\n",
    "    cv2.imshow('img',combined)\n",
    "    cv2.waitKey(500)\n",
    "    combined_thresh_path = str('6E_test_images_combinedthr' + '/' + img_name +'_combinedthr.jpg')\n",
    "    combined_thresh_imgs.append(combined_thresh_path)\n",
    "    cv2.imwrite(combined_thresh_path, combined)\n",
    "cv2.destroyAllWindows()"
   ]
  },
  {
   "cell_type": "markdown",
   "metadata": {},
   "source": [
    "## Step 6F: Applying Color Threshold (HLS)"
   ]
  },
  {
   "cell_type": "code",
   "execution_count": 11,
   "metadata": {},
   "outputs": [],
   "source": [
    "hls_imgs = []\n",
    "for fname in undist_imgs:\n",
    "    img = cv2.imread(fname)\n",
    "    img_name = ''.join(re.findall(\"(?<=/)\\w+\",fname)) # Find .jpg name after a '/'\n",
    "    hls_binary = 255 * functions.hls_select(img, thresh_h = (15, 100), thresh_s = (90, 255))\n",
    "    cv2.imshow('img',hls_binary)\n",
    "    cv2.waitKey(500)\n",
    "    hls_path = str('6F_test_images_hls' + '/' + img_name +'_hls.jpg')\n",
    "    hls_imgs.append(hls_path)\n",
    "    cv2.imwrite(hls_path, hls_binary)\n",
    "cv2.destroyAllWindows()"
   ]
  },
  {
   "cell_type": "markdown",
   "metadata": {},
   "source": [
    "## Step 6G: Combine Gradient and Color Threshold"
   ]
  },
  {
   "cell_type": "code",
   "execution_count": 12,
   "metadata": {},
   "outputs": [],
   "source": [
    "combined_all_imgs = []\n",
    "for fname in undist_imgs:\n",
    "    img = cv2.imread(fname)\n",
    "    img_name = ''.join(re.findall(\"(?<=/)\\w+\",fname)) # Find .jpg name after a '/'\n",
    "    \n",
    "    gradx = 255 * functions.abs_sobel_thresh(img, orient = 'x', thresh_min = 20, thresh_max = 100)\n",
    "    grady = 255 * functions.abs_sobel_thresh(img, orient = 'y', thresh_min = 50, thresh_max = 100)\n",
    "    mag_binary = 255 * functions.mag_thresh(img, sobel_kernel=3, thresh_min = 30, thresh_max = 100)\n",
    "    dir_binary = 255 * functions.dir_threshold(img, sobel_kernel=15, thresh = (0.7,1.3))\n",
    "    combined_grad = np.zeros_like(gradx)\n",
    "    combined_grad[((gradx == 255) & (grady == 255)) | ((mag_binary == 1) & (dir_binary == 1))] = 255\n",
    "    hls_binary = 255 * functions.hls_select(img, thresh_h = (15, 100),thresh_s = (90, 255))\n",
    "    combined_all = np.zeros_like(hls_binary)\n",
    "    combined_all[(hls_binary == 255) | (combined_grad == 255)] = 255\n",
    "    cv2.imshow('img',combined_all)\n",
    "    cv2.waitKey(500)\n",
    "    combined_all_path = str('6G_test_images_combinedall' + '/' + img_name +'_combinedall.jpg')\n",
    "    combined_all_imgs.append(combined_all_path)\n",
    "    cv2.imwrite(combined_all_path, combined_all)\n",
    "cv2.destroyAllWindows()"
   ]
  },
  {
   "cell_type": "markdown",
   "metadata": {},
   "source": [
    "## Step 7A: Region of interest of lanes"
   ]
  },
  {
   "cell_type": "code",
   "execution_count": 13,
   "metadata": {},
   "outputs": [],
   "source": [
    "imshape = img.shape\n",
    "bot_left = (190,imshape[0])\n",
    "top_left = (600,445)\n",
    "top_right = (680, 445)\n",
    "bot_right = (1120,imshape[0])\n",
    "\n",
    "roi_imgs = []\n",
    "for fname in undist_imgs:\n",
    "    img = cv2.imread(fname)\n",
    "    img_name = ''.join(re.findall(\"(?<=/)\\w+\",fname)) # Find .jpg name after a '/'\n",
    "    cv2.line(img,bot_left, top_left, (0, 0, 255), 2) \n",
    "    cv2.line(img,top_left, top_right, (0, 0, 255), 2)   \n",
    "    cv2.line(img,top_right, bot_right, (0, 0, 255), 2) \n",
    "    cv2.line(img,bot_right, bot_left, (0, 0, 255), 2)  \n",
    "    \n",
    "    cv2.imshow('img',img)\n",
    "    cv2.waitKey(500)\n",
    "    roi_path = str('7A_test_images_roi' + '/' + img_name +'_roi.jpg')\n",
    "    roi_imgs.append(roi_path)\n",
    "    cv2.imwrite(roi_path, img)\n",
    "cv2.destroyAllWindows()"
   ]
  },
  {
   "cell_type": "markdown",
   "metadata": {},
   "source": [
    "## Step 7B: ROI Warped"
   ]
  },
  {
   "cell_type": "code",
   "execution_count": 14,
   "metadata": {},
   "outputs": [],
   "source": [
    "dest_bot_left = (300,imshape[0])\n",
    "dest_top_left = (300,0)\n",
    "dest_top_right = (1240-300,0)\n",
    "dest_bot_right = (1240-300,imshape[0])\n",
    "\n",
    "roiwarped_imgs = []\n",
    "for fname in undist_imgs:\n",
    "    img = cv2.imread(fname)\n",
    "    img_name = ''.join(re.findall(\"(?<=/)\\w+\",fname)) # Find .jpg name after a '/'\n",
    "    imshape = img.shape\n",
    "    src = np.float32([[bot_left,top_left,top_right,bot_right]])\n",
    "    dst = np.float32([[dest_bot_left, dest_top_left, dest_top_right, dest_bot_right]])  \n",
    "\n",
    "    M = cv2.getPerspectiveTransform(src, dst)\n",
    "    roiwarp = cv2.warpPerspective(img, M, (imshape[1], imshape[0]))\n",
    "    \n",
    "    cv2.line(roiwarp,dest_bot_left, dest_top_left, (0, 0, 255), 2) \n",
    "    cv2.line(roiwarp,dest_top_right, dest_bot_right, (0, 0, 255), 2) \n",
    "    \n",
    "    cv2.imshow('img',roiwarp)\n",
    "    cv2.waitKey(500)\n",
    "    roiwarp_path = str('7B_test_images_roi_warp' + '/' + img_name +'_warp.jpg')\n",
    "    roiwarped_imgs.append(roiwarp_path)\n",
    "    cv2.imwrite(roiwarp_path, roiwarp)\n",
    "cv2.destroyAllWindows()"
   ]
  },
  {
   "cell_type": "markdown",
   "metadata": {},
   "source": [
    "## Step 8: Perspective Transform (Warp the Image)"
   ]
  },
  {
   "cell_type": "code",
   "execution_count": 15,
   "metadata": {},
   "outputs": [],
   "source": [
    "warp_imgs = []\n",
    "for fname in combined_all_imgs:\n",
    "    img = cv2.imread(fname, 0)\n",
    "    img_name = ''.join(re.findall(\"(?<=/)\\w+\",fname)) # Find .jpg name after a '/'\n",
    "    imshape = img.shape\n",
    "    src = np.float32([[bot_left,top_left,top_right,bot_right]])\n",
    "    dst = np.float32([[dest_bot_left, dest_top_left, dest_top_right, dest_bot_right]])  \n",
    "    M = cv2.getPerspectiveTransform(src, dst)\n",
    "    warp = cv2.warpPerspective(img, M, (imshape[1], imshape[0]))\n",
    "    cv2.imshow('img',warp)\n",
    "    cv2.waitKey(500)\n",
    "    warp_path = str('8_test_images_warp' + '/' + img_name +'_warp.jpg')\n",
    "    warp_imgs.append(warp_path)\n",
    "    cv2.imwrite(warp_path, warp)\n",
    "cv2.destroyAllWindows()"
   ]
  },
  {
   "cell_type": "markdown",
   "metadata": {},
   "source": [
    "## Step 9: Finding the Lines Sliding Window (Histogram Method) and the Curvature"
   ]
  },
  {
   "cell_type": "code",
   "execution_count": 16,
   "metadata": {},
   "outputs": [],
   "source": [
    "# Define conversions in x and y from pixels space to meters\n",
    "hist_imgs = []\n",
    "for fname in warp_imgs:\n",
    "    img = cv2.imread(fname, 0)\n",
    "    img_name = ''.join(re.findall(\"(?<=/)\\w+\",fname)) # Find .jpg name after a '/'\n",
    "    out_img, left_fit, right_fit, left_curve, right_curve = functions.fit_polynomial(img)\n",
    "    cv2.imshow('img',out_img)\n",
    "    cv2.waitKey(500)\n",
    "    hist_path = str('9_test_images_hist' + '/' + img_name +'_hist.jpg')\n",
    "    hist_imgs.append(hist_path)\n",
    "    cv2.imwrite(hist_path, out_img)\n",
    "cv2.destroyAllWindows()\n"
   ]
  },
  {
   "cell_type": "markdown",
   "metadata": {},
   "source": [
    "## Step 10: Final Output (Image, Lane with color, Curvature text)"
   ]
  },
  {
   "cell_type": "code",
   "execution_count": 17,
   "metadata": {},
   "outputs": [],
   "source": [
    "import re\n",
    "images = glob.glob('4_test_images/*.jpg')\n",
    "\n",
    "ym_per_pix = 30/720 # meters per pixel in y dimension\n",
    "xm_per_pix = 3.7/640 # meters per pixel in x dimension\n",
    "bot_left = (190,720)\n",
    "top_left = (600,445)\n",
    "top_right = (680, 445)\n",
    "bot_right = (1120,720)\n",
    "dest_bot_left = (300,720)\n",
    "dest_top_left = (300,0)\n",
    "dest_top_right = (1240-300,0)\n",
    "dest_bot_right = (1240-300,720)\n",
    "\n",
    "final_imgs = []\n",
    "\n",
    "for fname in images:\n",
    "    img_name = ''.join(re.findall(\"(?<=/)\\w+\",fname)) # Find .jpg name after a '/'\n",
    "    # Step 5: Undistort the images (already done)\n",
    "    img = cv2.imread(fname)\n",
    "    imshape = img.shape\n",
    "    ret, mtx, dist, rvecs, tvecs = cv2.calibrateCamera(objpoints,imgpoints, img.shape[1:], None, None)\n",
    "    undist = cv2.undistort(img, mtx, dist, None, mtx)\n",
    "    \n",
    "    # Step 6: Apply the thresholds\n",
    "    gradx = 255 * functions.abs_sobel_thresh(undist, orient = 'x', thresh_min = 20, thresh_max = 100)\n",
    "    grady = 255 * functions.abs_sobel_thresh(undist, orient = 'y', thresh_min = 50, thresh_max = 100)\n",
    "    mag_binary = 255 * functions.mag_thresh(undist, sobel_kernel=3, thresh_min = 30, thresh_max = 100)\n",
    "    dir_binary = 255 * functions.dir_threshold(undist, sobel_kernel=15, thresh = (0.7,1.3))\n",
    "    combined_grad = np.zeros_like(gradx)\n",
    "    combined_grad[((gradx == 255) & (grady == 255)) | ((mag_binary == 1) & (dir_binary == 1))] = 255\n",
    "    hls_binary = 255 * functions.hls_select(undist, thresh_h = (15, 100),thresh_s = (90, 255))\n",
    "    combined_all = np.zeros_like(hls_binary)\n",
    "    combined_all[(hls_binary == 255) | (combined_grad == 255)] = 255\n",
    "    \n",
    "    # Step 7: Region of interest\n",
    "    src = np.float32([[bot_left,top_left,top_right,bot_right]])\n",
    "    dst = np.float32([[dest_bot_left, dest_top_left, dest_top_right, dest_bot_right]])  \n",
    "    \n",
    "    # Step 8: Warp the images\n",
    "    M = cv2.getPerspectiveTransform(src, dst)\n",
    "    binary_warped = cv2.warpPerspective(combined_all, M, (imshape[1], imshape[0]))\n",
    "    \n",
    "    # Find the curvature \n",
    "    out_img, left_fit, right_fit, left_curve, right_curve = functions.fit_polynomial(binary_warped)\n",
    "\n",
    "    # Find the region of lane identified \n",
    "    ploty = np.linspace(0, binary_warped.shape[0]-1, binary_warped.shape[0] )\n",
    "    left_fitx = left_fit[0]*ploty**2 + left_fit[1]*ploty + left_fit[2]\n",
    "    right_fitx = right_fit[0]*ploty**2 + right_fit[1]*ploty + right_fit[2]\n",
    "    warp_zero = np.zeros_like(binary_warped).astype(np.uint8)\n",
    "    color_warp = np.dstack((warp_zero, warp_zero, warp_zero))\n",
    "    pts_left = np.array([np.transpose(np.vstack([left_fitx,ploty]))])\n",
    "    pts_right = np.array([np.flipud(np.transpose(np.vstack([right_fitx, ploty])))])\n",
    "    pts = np.hstack((pts_left, pts_right))\n",
    "    cv2.fillPoly(color_warp, np.int_([pts]),(0,255,0))\n",
    "    \n",
    "    # Find the vehicle offset\n",
    "    img_mid = (dest_bot_left[0] + dest_bot_right[0]) // 2\n",
    "    real_mid = (left_fitx[0] + right_fitx[0]) // 2\n",
    "    offset = (real_mid - img_mid) * xm_per_pix\n",
    "    \n",
    "    # Unwarp the warped image to overlay lane lines on top of actual image\n",
    "    src = np.float32([[bot_left,top_left,top_right,bot_right]])\n",
    "    dst = np.float32([[dest_bot_left, dest_top_left, dest_top_right, dest_bot_right]])  \n",
    "    m = cv2.getPerspectiveTransform(dst, src)\n",
    "    unwarp_binarywarp = cv2.warpPerspective(binary_warped, m, (imshape[1], imshape[0]))\n",
    "    unwarp_colorwarp  = cv2.warpPerspective(color_warp, m, (imshape[1], imshape[0]))\n",
    "    \n",
    "    # Read the undistorted image and overlay lane\n",
    "    undist[unwarp_binarywarp == 255] = (0,0,255)\n",
    "    result = cv2.addWeighted(undist, 1, unwarp_colorwarp, 0.3, 0)\n",
    "    \n",
    "    # Put text of curvature radiust and vehicle offset\n",
    "    cv2.putText(result,\"left radius = \" + str(int(left_curve)) + \" m\",(100,500), cv2.FONT_HERSHEY_SIMPLEX, 1, (255,0,0),3)\n",
    "    cv2.putText(result,\"right radius = \" + str(int(right_curve)) + \" m\",(800, 500), cv2.FONT_HERSHEY_SIMPLEX, 1, (0,0,255),3)\n",
    "    cv2.putText(result, \"vehicle offset = \" + str(round(offset,2)) + \" m\", (550, 200), cv2.FONT_HERSHEY_SIMPLEX, 1, (255,255,255),3)\n",
    "    cv2.imshow('img',result)\n",
    "    cv2.waitKey(500)\n",
    "    final_path = str('10_test_images_final' + '/' + img_name +'_combinedall.jpg')\n",
    "    final_imgs.append(final_path)\n",
    "    cv2.imwrite(final_path, result)\n",
    "cv2.destroyAllWindows()"
   ]
  },
  {
   "cell_type": "markdown",
   "metadata": {},
   "source": [
    "## Step 11: Apply to Video Clips"
   ]
  },
  {
   "cell_type": "code",
   "execution_count": 18,
   "metadata": {},
   "outputs": [
    {
     "name": "stdout",
     "output_type": "stream",
     "text": [
      "[MoviePy] >>>> Building video 11_video_output/project_video_output.mp4\n",
      "[MoviePy] Writing video 11_video_output/project_video_output.mp4\n"
     ]
    },
    {
     "name": "stderr",
     "output_type": "stream",
     "text": [
      "100%|█████████▉| 1260/1261 [28:36<00:01,  1.41s/it]\n"
     ]
    },
    {
     "name": "stdout",
     "output_type": "stream",
     "text": [
      "[MoviePy] Done.\n",
      "[MoviePy] >>>> Video ready: 11_video_output/project_video_output.mp4 \n",
      "\n",
      "CPU times: user 38min 50s, sys: 35 s, total: 39min 25s\n",
      "Wall time: 28min 38s\n"
     ]
    }
   ],
   "source": [
    "# Import everything needed to edit/save/watch video clips\n",
    "from moviepy.editor import VideoFileClip\n",
    "from IPython.display import HTML\n",
    "\n",
    "ym_per_pix = 30/720 # meters per pixel in y dimension\n",
    "xm_per_pix = 3.7/640 # meters per pixel in x dimension\n",
    "bot_left = (190,720)\n",
    "top_left = (600,445)\n",
    "top_right = (680, 445)\n",
    "bot_right = (1120,720)\n",
    "dest_bot_left = (300,720)\n",
    "dest_top_left = (300,0)\n",
    "dest_top_right = (1240-300,0)\n",
    "dest_bot_right = (1240-300,720)\n",
    "\n",
    "def advancedLaneLines_vid(image):\n",
    "    # Step 5: Undistort the images (already done)\n",
    "    img = image\n",
    "    imshape = img.shape\n",
    "    ret, mtx, dist, rvecs, tvecs = cv2.calibrateCamera(objpoints,imgpoints, img.shape[1:], None, None)\n",
    "    undist = cv2.undistort(img, mtx, dist, None, mtx)\n",
    "    \n",
    "    # Step 6: Apply the thresholds\n",
    "    gradx = 255 * functions.abs_sobel_thresh(undist, orient = 'x', thresh_min = 20, thresh_max = 100)\n",
    "    grady = 255 * functions.abs_sobel_thresh(undist, orient = 'y', thresh_min = 50, thresh_max = 100)\n",
    "    mag_binary = 255 * functions.mag_thresh(undist, sobel_kernel=3, thresh_min = 30, thresh_max = 100)\n",
    "    dir_binary = 255 * functions.dir_threshold(undist, sobel_kernel=15, thresh = (0.7,1.3))\n",
    "    combined_grad = np.zeros_like(gradx)\n",
    "    combined_grad[((gradx == 255) & (grady == 255)) | ((mag_binary == 1) & (dir_binary == 1))] = 255\n",
    "    hls_binary = 255 * functions.hls_select(undist, thresh_h = (15, 100),thresh_s = (90, 255))\n",
    "    combined_all = np.zeros_like(hls_binary)\n",
    "    combined_all[(hls_binary == 255) | (combined_grad == 255)] = 255\n",
    "    \n",
    "    # Step 7: Region of interest\n",
    "    src = np.float32([[bot_left,top_left,top_right,bot_right]])\n",
    "    dst = np.float32([[dest_bot_left, dest_top_left, dest_top_right, dest_bot_right]])  \n",
    "    \n",
    "    # Step 8: Warp the images\n",
    "    M = cv2.getPerspectiveTransform(src, dst)\n",
    "    binary_warped = cv2.warpPerspective(combined_all, M, (imshape[1], imshape[0]))\n",
    "    \n",
    "    # Find the curvature \n",
    "    #out_img, left_fit, right_fit, left_curve, right_curve = fit_polynomial(binary_warped)\n",
    "    \n",
    "    # Find left_fit, right_fit the pixels in the two lines\n",
    "    left_fit, right_fit, left_curve, right_curve = functions.search_around_poly(binary_warped, temp)\n",
    "    \n",
    "    # Find the region of lane identified \n",
    "    ploty = np.linspace(0, binary_warped.shape[0]-1, binary_warped.shape[0] )\n",
    "    left_fitx = left_fit[0]*ploty**2 + left_fit[1]*ploty + left_fit[2]\n",
    "    right_fitx = right_fit[0]*ploty**2 + right_fit[1]*ploty + right_fit[2]\n",
    "    warp_zero = np.zeros_like(binary_warped).astype(np.uint8)\n",
    "    color_warp = np.dstack((warp_zero, warp_zero, warp_zero))\n",
    "    pts_left = np.array([np.transpose(np.vstack([left_fitx,ploty]))])\n",
    "    pts_right = np.array([np.flipud(np.transpose(np.vstack([right_fitx, ploty])))])\n",
    "    pts = np.hstack((pts_left, pts_right))\n",
    "    cv2.fillPoly(color_warp, np.int_([pts]),(0,255,0))\n",
    "    \n",
    "    # Find the vehicle offset\n",
    "    img_mid = (dest_bot_left[0] + dest_bot_right[0]) // 2\n",
    "    real_mid = (left_fitx[0] + right_fitx[0]) // 2\n",
    "    offset = (real_mid - img_mid) * xm_per_pix\n",
    "    \n",
    "    # Unwarp the warped image to overlay lane lines on top of actual image\n",
    "    src = np.float32([[bot_left,top_left,top_right,bot_right]])\n",
    "    dst = np.float32([[dest_bot_left, dest_top_left, dest_top_right, dest_bot_right]])  \n",
    "    m = cv2.getPerspectiveTransform(dst, src)\n",
    "    unwarp_binarywarp = cv2.warpPerspective(binary_warped, m, (imshape[1], imshape[0]))\n",
    "    unwarp_colorwarp  = cv2.warpPerspective(color_warp, m, (imshape[1], imshape[0]))\n",
    "    \n",
    "    # Read the undistorted image and overlay lane\n",
    "    undist[unwarp_binarywarp == 255] = (0,0,255)\n",
    "    result = cv2.addWeighted(undist, 1, unwarp_colorwarp, 0.3, 0)\n",
    "    \n",
    "    # Put text of curvature radiust and vehicle offset\n",
    "    cv2.putText(result,\"left radius = \" + str(int(left_curve)) + \" m\",(100,500), cv2.FONT_HERSHEY_SIMPLEX, 1, (255,0,0),3)\n",
    "    cv2.putText(result,\"right radius = \" + str(int(right_curve)) + \" m\",(800, 500), cv2.FONT_HERSHEY_SIMPLEX, 1, (0,0,255),3)\n",
    "    cv2.putText(result, \"vehicle offset = \" + str(round(offset,2)) + \" m\", (550, 200), cv2.FONT_HERSHEY_SIMPLEX, 1, (255,255,255),3)  \n",
    "    \n",
    "    # Result\n",
    "    temp.left_fit = left_fit\n",
    "    temp.right_fit = right_fit\n",
    "    return result\n",
    "\n",
    "challenge_output = '11_video_output/project_video_output.mp4'\n",
    "## To speed up the testing process you may want to try your pipeline on a shorter subclip of the video\n",
    "## To do so add .subclip(start_second,end_second) to the end of the line below\n",
    "## Where start_second and end_second are integer values representing the start and end of the subclip\n",
    "## You may also uncomment the following line for a subclip of the first 5 seconds\n",
    "#clip = VideoFileClip('project_video.mp4').subclip(0,2)\n",
    "clip = VideoFileClip('project_video.mp4')\n",
    "init_img = clip.get_frame(0)\n",
    "left_fit, right_fit = functions.find_initial_lane_poly(init_img,objpoints,imgpoints)\n",
    "temp = functions.userdata()\n",
    "temp.left_fit = left_fit\n",
    "temp.right_fit = right_fit\n",
    "challenge_clip = clip.fl_image(advancedLaneLines_vid)\n",
    "%time challenge_clip.write_videofile(challenge_output, audio=False)"
   ]
  },
  {
   "cell_type": "code",
   "execution_count": null,
   "metadata": {},
   "outputs": [],
   "source": []
  }
 ],
 "metadata": {
  "anaconda-cloud": {},
  "kernelspec": {
   "display_name": "Python 3",
   "language": "python",
   "name": "python3"
  },
  "language_info": {
   "codemirror_mode": {
    "name": "ipython",
    "version": 3
   },
   "file_extension": ".py",
   "mimetype": "text/x-python",
   "name": "python",
   "nbconvert_exporter": "python",
   "pygments_lexer": "ipython3",
   "version": "3.6.8"
  }
 },
 "nbformat": 4,
 "nbformat_minor": 1
}
