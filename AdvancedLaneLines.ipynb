{
 "cells": [
  {
   "cell_type": "markdown",
   "metadata": {},
   "source": [
    "## Advanced Lane Finding Project\n",
    "\n",
    "The goals / steps of this project are the following:\n",
    "\n",
    "* Compute the camera calibration matrix and distortion coefficients given a set of chessboard images.\n",
    "* Apply a distortion correction to raw images.\n",
    "* Use color transforms, gradients, etc., to create a thresholded binary image.\n",
    "* Apply a perspective transform to rectify binary image (\"birds-eye view\").\n",
    "* Detect lane pixels and fit to find the lane boundary.\n",
    "* Determine the curvature of the lane and vehicle position with respect to center.\n",
    "* Warp the detected lane boundaries back onto the original image.\n",
    "* Output visual display of the lane boundaries and numerical estimation of lane curvature and vehicle position.\n",
    "\n",
    "---\n",
    "## Step 2: Compute the camera calibration using chessboard images"
   ]
  },
  {
   "cell_type": "code",
   "execution_count": 2,
   "metadata": {},
   "outputs": [],
   "source": [
    "import numpy as np\n",
    "import cv2\n",
    "import glob\n",
    "import matplotlib.pyplot as plt\n",
    "%matplotlib qt\n",
    "\n",
    "# prepare object points, like (0,0,0), (1,0,0), (2,0,0) ....,(6,5,0)\n",
    "objp = np.zeros((6*9,3), np.float32)\n",
    "objp[:,:2] = np.mgrid[0:9,0:6].T.reshape(-1,2)\n",
    "\n",
    "# Arrays to store object points and image points from all the images.\n",
    "objpoints = [] # 3d points in real world space (real undistorted chessboard corners)\n",
    "               # These are the known object coordinates of the chessboard corners\n",
    "               # x, y, and z from the top left corner (0,0,0) to (x, y, 0) --> flat \n",
    "imgpoints = [] # 2d points in image plane. (coordinates of the corners)\n",
    "\n",
    "# Make a list of calibration images\n",
    "images = glob.glob('1_camera_cal/calibration*.jpg')\n",
    "\n",
    "# Array to store valid_imgages\n",
    "valid_imgs = []\n",
    "\n",
    "# Step through the list and search for chessboard corners\n",
    "for fname in images:\n",
    "    img = cv2.imread(fname)\n",
    "    gray = cv2.cvtColor(img,cv2.COLOR_BGR2GRAY)\n",
    "\n",
    "    # Find the chessboard corners\n",
    "    ret, corners = cv2.findChessboardCorners(gray, (9,6),None)\n",
    "\n",
    "    # If found, add object points, image points\n",
    "    if ret == True:\n",
    "        objpoints.append(objp)\n",
    "        imgpoints.append(corners)\n",
    "        valid_imgs.append(fname)\n",
    "        \n",
    "        # Draw and display the corners\n",
    "        img = cv2.drawChessboardCorners(img, (9,6), corners, ret)\n",
    "        #cv2.imshow('img',img)\n",
    "        #cv2.waitKey(500)\n",
    "cv2.destroyAllWindows()"
   ]
  },
  {
   "cell_type": "markdown",
   "metadata": {},
   "source": [
    "## Step 3: Correct for Distortion (and save undistorted images)"
   ]
  },
  {
   "cell_type": "code",
   "execution_count": 85,
   "metadata": {
    "scrolled": true
   },
   "outputs": [],
   "source": [
    "import re\n",
    "undist_imgs = []\n",
    "for i in range(0, len(valid_imgs)):\n",
    "    img = cv2.imread(valid_imgs[i])\n",
    "    img_num = ''.join(re.findall(\"\\d\",(valid_imgs[i])))\n",
    "    ret, mtx, dist, rvecs, tvecs = cv2.calibrateCamera(objpoints,imgpoints, img.shape[1:], None, None)\n",
    "    undist = cv2.undistort(img, mtx, dist, None, mtx)\n",
    "    cv2.imshow('img',undist)\n",
    "    cv2.waitKey(500)\n",
    "    undist_path = str('2_camera_undist'+'/undistort'+img_num+'.jpg')\n",
    "    undist_imgs.append(undist_path)\n",
    "    cv2.imwrite(undist_path, undist)\n",
    "cv2.destroyAllWindows()"
   ]
  },
  {
   "cell_type": "markdown",
   "metadata": {},
   "source": [
    "## Step 4: Perspective Transform (and save transformed images)"
   ]
  },
  {
   "cell_type": "code",
   "execution_count": 88,
   "metadata": {},
   "outputs": [],
   "source": [
    "nx = 9\n",
    "ny = 6\n",
    "trans_paths = []\n",
    "for i in range(0, len(undist_imgs)):\n",
    "    img = cv2.imread(undist_imgs[i])\n",
    "    img_num = ''.join(re.findall(\"\\d\",(undist_imgs[i]))) \n",
    "    gray = cv2.cvtColor(img, cv2.COLOR_BGR2GRAY)\n",
    "    ret, corners = cv2.findChessboardCorners(gray, (nx, ny), None)\n",
    "    \n",
    "    if ret == True:\n",
    "        cv2.drawChessboardCorners(img, (nx, ny), corners, ret)\n",
    "        offset = 100\n",
    "        img_size = (gray.shape[1], gray.shape[0])\n",
    "        src = np.float32([corners[0], corners[nx-1],corners[-1], corners[-nx]])\n",
    "        dst = np.float32([[offset, offset], [img_size[0]-offset, offset],\n",
    "                          [img_size[0]-offset, img_size[1]-offset],\n",
    "                          [offset, img_size[1]-offset]])\n",
    "        M = cv2.getPerspectiveTransform(src, dst)\n",
    "        warped = cv2.warpPerspective(img, M, img_size)\n",
    "        cv2.imshow('img',warped)\n",
    "        cv2.waitKey(500)\n",
    "        trans_path = str('3_camera_transform'+'/transform'+img_num+'.jpg')\n",
    "        trans_paths.append(trans_path)\n",
    "        cv2.imwrite(trans_path, warped)\n",
    "cv2.destroyAllWindows()"
   ]
  },
  {
   "cell_type": "markdown",
   "metadata": {},
   "source": [
    "## Step 5: Undistort camera images of road"
   ]
  },
  {
   "cell_type": "code",
   "execution_count": 72,
   "metadata": {},
   "outputs": [],
   "source": [
    "images = glob.glob('4_test_images/*.jpg')\n",
    "undist_imgs = []\n",
    "for fname in images:\n",
    "    img = cv2.imread(fname)\n",
    "    img_name = ''.join(re.findall(\"(?<=/)\\w+\",fname)) # Find .jpg name after a '/'\n",
    "    ret, mtx, dist, rvecs, tvecs = cv2.calibrateCamera(objpoints,imgpoints, img.shape[1:], None, None)\n",
    "    undist = cv2.undistort(img, mtx, dist, None, mtx)\n",
    "    cv2.imshow('img',undist)\n",
    "    cv2.waitKey(500)\n",
    "    undist_path = str('5_test_images_undist' + '/' + img_name +'_undist.jpg')\n",
    "    undist_imgs.append(undist_path)\n",
    "    cv2.imwrite(undist_path, undist)\n",
    "cv2.destroyAllWindows()"
   ]
  },
  {
   "cell_type": "markdown",
   "metadata": {},
   "source": [
    "## Step 6a: Applying Sobel X Threshold"
   ]
  },
  {
   "cell_type": "code",
   "execution_count": 89,
   "metadata": {},
   "outputs": [],
   "source": [
    "def abs_sobel_thresh(img, orient='x', thresh_min=0, thresh_max=255):\n",
    "    # Convert to grayscale\n",
    "    gray = cv2.cvtColor(img, cv2.COLOR_BGR2GRAY)\n",
    "    # Apply x or y gradient with the OpenCV Sobel() function\n",
    "    # and take the absolute value\n",
    "    if orient == 'x':\n",
    "        abs_sobel = np.absolute(cv2.Sobel(gray, cv2.CV_64F, 1, 0))\n",
    "    if orient == 'y':\n",
    "        abs_sobel = np.absolute(cv2.Sobel(gray, cv2.CV_64F, 0, 1))\n",
    "    # Rescale back to 8 bit integer\n",
    "    scaled_sobel = np.uint8(255*abs_sobel/np.max(abs_sobel))\n",
    "    # Create a copy and apply the threshold\n",
    "    binary_output = np.zeros_like(scaled_sobel)\n",
    "    # Here I'm using inclusive (>=, <=) thresholds, but exclusive is ok too\n",
    "    binary_output[(scaled_sobel >= thresh_min) & (scaled_sobel <= thresh_max)] = 1\n",
    "    # Return the result\n",
    "    return binary_output\n",
    "\n",
    "sobelx_imgs = []\n",
    "for fname in undist_imgs:\n",
    "    img = cv2.imread(fname)\n",
    "    img_name = ''.join(re.findall(\"(?<=/)\\w+\",fname)) # Find .jpg name after a '/'\n",
    "    grad_binary = 255*abs_sobel_thresh(img, orient = 'x', thresh_min = 20, thresh_max = 100)\n",
    "    #plt.imshow(grad_binary, cmap='gray')\n",
    "    cv2.imshow('img',grad_binary)\n",
    "    cv2.waitKey(500)\n",
    "    sobelx_path = str('6A_test_images_sobelx' + '/' + img_name +'_sobelx.jpg')\n",
    "    sobelx_imgs.append(sobelx_path)\n",
    "    cv2.imwrite(sobelx_path, grad_binary)\n",
    "cv2.destroyAllWindows()"
   ]
  },
  {
   "cell_type": "markdown",
   "metadata": {},
   "source": [
    "## Step 6B: Applying sobel x and y magnitude threshold"
   ]
  },
  {
   "cell_type": "code",
   "execution_count": 90,
   "metadata": {},
   "outputs": [],
   "source": [
    "def mag_thresh(img, sobel_kernel=3, thresh_min=0, thresh_max=255):\n",
    "    # Convert to grayscale\n",
    "    gray = cv2.cvtColor(img, cv2.COLOR_BGR2GRAY)\n",
    "    # Apply x and y gradient\n",
    "    sobelx = np.absolute(cv2.Sobel(gray, cv2.CV_64F, 1, 0, sobel_kernel))\n",
    "    sobely = np.absolute(cv2.Sobel(gray, cv2.CV_64F, 0, 1, sobel_kernel))\n",
    "    # Calculate the gradient magnitude\n",
    "    gradmag = np.sqrt(sobelx**2 + sobely**2)\n",
    "    # Rescale to 8 bit\n",
    "    scale_factor = np.max(gradmag)/255 \n",
    "    gradmag = (gradmag/scale_factor).astype(np.uint8) \n",
    "    # Create a binary image of ones where threshold is met, zeros otherwise\n",
    "    binary_output = np.zeros_like(gradmag)\n",
    "    binary_output[(scaled_sobel >= thresh_min) & (scaled_sobel <= thresh_max)] = 1\n",
    "    # Return the result\n",
    "    return binary_output\n",
    "\n",
    "sobelxy_imgs = []\n",
    "for fname in undist_imgs:\n",
    "    img = cv2.imread(fname)\n",
    "    img_name = ''.join(re.findall(\"(?<=/)\\w+\",fname)) # Find .jpg name after a '/'\n",
    "    grad_binary = 255 * mag_thresh(img, sobel_kernel=3, thresh_min = 30, thresh_max = 100)\n",
    "    #plt.imshow(grad_binary, cmap='gray')\n",
    "    cv2.imshow('img',grad_binary)\n",
    "    cv2.waitKey(500)\n",
    "    sobelxy_path = str('6B_test_images_sobelxy' + '/' + img_name +'_sobelxy.jpg')\n",
    "    sobelxy_imgs.append(sobelxy_path)\n",
    "    cv2.imwrite(sobelxy_path, grad_binary)\n",
    "cv2.destroyAllWindows()"
   ]
  },
  {
   "cell_type": "markdown",
   "metadata": {},
   "source": [
    "## Step 6C: Direction of Gradient Threshold"
   ]
  },
  {
   "cell_type": "code",
   "execution_count": 93,
   "metadata": {},
   "outputs": [],
   "source": [
    "# Define a function to threshold an image for a given range and Sobel kernel\n",
    "def dir_threshold(img, sobel_kernel=3, thresh=(0, np.pi/2)):\n",
    "    # Grayscale\n",
    "    gray = cv2.cvtColor(img, cv2.COLOR_BGR2GRAY)\n",
    "    # Calculate the x and y gradients\n",
    "    sobelx = cv2.Sobel(gray, cv2.CV_64F, 1, 0, ksize=sobel_kernel)\n",
    "    sobely = cv2.Sobel(gray, cv2.CV_64F, 0, 1, ksize=sobel_kernel)\n",
    "    # Take the absolute value of the gradient direction, \n",
    "    # apply a threshold, and create a binary image result\n",
    "    absgraddir = np.arctan2(np.absolute(sobely), np.absolute(sobelx))\n",
    "    binary_output =  np.zeros_like(absgraddir)\n",
    "    binary_output[(absgraddir >= thresh[0]) & (absgraddir <= thresh[1])] = 1\n",
    "    # Return the binary image\n",
    "    return binary_output\n",
    "\n",
    "gradient_imgs = []\n",
    "for fname in undist_imgs:\n",
    "    img = cv2.imread(fname)\n",
    "    img_name = ''.join(re.findall(\"(?<=/)\\w+\",fname)) # Find .jpg name after a '/'\n",
    "    grad_binary = 255 * dir_threshold(img, sobel_kernel=15, thresh = (0.7,1.3))\n",
    "    cv2.imshow('img',grad_binary)\n",
    "    cv2.waitKey(500)\n",
    "    gradient_path = str('6C_test_images_gradient' + '/' + img_name +'_gradient.jpg')\n",
    "    gradient_imgs.append(gradient_path)\n",
    "    cv2.imwrite(gradient_path, grad_binary)\n",
    "cv2.destroyAllWindows()"
   ]
  },
  {
   "cell_type": "markdown",
   "metadata": {},
   "source": [
    "# And so on and so forth..."
   ]
  },
  {
   "cell_type": "markdown",
   "metadata": {
    "collapsed": true
   },
   "source": [
    "cv2.calibrateCamera(objpoints, imgpoints, gray.shape[::-1], None, None) # returns ret, \n",
    "#mtx (camera matrix we need to transform 3D obj points to 2D image points)\n",
    "#dist (distortion coefficients)\n",
    "#rvecs (rotation vectors)\n",
    "#tvecs (translation vectors)\n",
    "\n",
    "dst = cv2.undistort(img, mtx, dist, None, mtx)"
   ]
  }
 ],
 "metadata": {
  "anaconda-cloud": {},
  "kernelspec": {
   "display_name": "Python 3",
   "language": "python",
   "name": "python3"
  },
  "language_info": {
   "codemirror_mode": {
    "name": "ipython",
    "version": 3
   },
   "file_extension": ".py",
   "mimetype": "text/x-python",
   "name": "python",
   "nbconvert_exporter": "python",
   "pygments_lexer": "ipython3",
   "version": "3.6.8"
  }
 },
 "nbformat": 4,
 "nbformat_minor": 1
}
